{
 "cells": [
  {
   "cell_type": "markdown",
   "id": "54a58d17-381f-4971-a3a7-5eca76e62437",
   "metadata": {},
   "source": [
    "🧠 Python OOPS Assignment\n",
    "\n",
    "This notebook demonstrates the core OOP concepts in Python using two practical examples:\n",
    "- Basic Drone Class (Classes & Encapsulation)\n",
    "- Vehicle Inheritance (Inheritance & Polymorphism)\n"
   ]
  },
  {
   "cell_type": "markdown",
   "id": "ffe3d4c4-c6c0-4d24-b02c-1f771afd4e7a",
   "metadata": {},
   "source": [
    "Part 1: Basic Drone Class (Classes & Encapsulation)\n",
    "\n",
    "Task:\n",
    "\n",
    "Create a class Drone with the following attributes:\n",
    "\n",
    "model name (string), battery life (integer percentage from 0 to 100), max altitude (integer in meters)\n",
    "\n",
    "Add the following methods:\n",
    "\n",
    "_init(self, model name, battery_life, max_altitude): Initializes the attributes.\n",
    "\n",
    "get specs(): Returns a string containing the drone's specs in a readable format (e.g., \"Model: Phantom, Battery: 80%, Altitude: 1000m²)\n",
    "\n",
    "Hint: No need to add complicated encapsulation for now, just use basic attributes and methods."
   ]
  },
  {
   "cell_type": "code",
   "execution_count": 1,
   "id": "cc0a9f6f-8d5a-4aba-869e-281cda598784",
   "metadata": {},
   "outputs": [
    {
     "name": "stdout",
     "output_type": "stream",
     "text": [
      "Model: Phantom, Battery: 80%, Altitude: 1000m\n"
     ]
    }
   ],
   "source": [
    "# Solution\n",
    "\n",
    "class Drone:\n",
    "    def __init__(self, model_name, battery_life, max_altitude):\n",
    "        self.model_name = model_name\n",
    "        self.battery_life = battery_life\n",
    "        self.max_altitude = max_altitude\n",
    "\n",
    "    def get_specs(self):\n",
    "        return f\"Model: {self.model_name}, Battery: {self.battery_life}%, Altitude: {self.max_altitude}m\"\n",
    "\n",
    "# Example\n",
    "d1 = Drone(\"Phantom\", 80, 1000)\n",
    "print(d1.get_specs())"
   ]
  },
  {
   "cell_type": "markdown",
   "id": "4598dc32-9a82-4af0-87d4-85aae76ef3b2",
   "metadata": {},
   "source": [
    "Part 2: Vehicle Inheritance (Inheritance & Polymorphism)\n",
    "\n",
    "Task:\n",
    "\n",
    "1. Create a base class Vehicle with:\n",
    "\n",
    "Attributes: name (string), speed (integer in km/h)\n",
    "\n",
    "Method: describe() that prints \"This is a [name] moving at [speed] km/h.\"\n",
    "\n",
    "2. Create two child classes that inherit from Vehicle:\n",
    "\n",
    "Car (with an additional attribute num doors and a method describe() that overrides the base class method to include the number of doors)\n",
    "\n",
    "Bike (with an additional attribute engine type and a method describe() that overrides the base class method to include engine type)"
   ]
  },
  {
   "cell_type": "code",
   "execution_count": 2,
   "id": "bb63e81e-be11-4aa0-9513-e743a591ef7f",
   "metadata": {},
   "outputs": [
    {
     "name": "stdout",
     "output_type": "stream",
     "text": [
      "This is a Toyota car with 4 doors, moving at 120 km/h.\n",
      "This is a Yamaha bike with a 2-stroke engine, moving at 80 km/h.\n"
     ]
    }
   ],
   "source": [
    "# 🚗 Part 2: Vehicle Inheritance & Polymorphism\n",
    "\n",
    "class Vehicle:\n",
    "    def __init__(self, name, speed):\n",
    "        self.name = name\n",
    "        self.speed = speed\n",
    "\n",
    "    def describe(self):\n",
    "        print(f\"This is a {self.name} moving at {self.speed} km/h.\")\n",
    "\n",
    "class Car(Vehicle):\n",
    "    def __init__(self, name, speed, num_doors):\n",
    "        super().__init__(name, speed)\n",
    "        self.num_doors = num_doors\n",
    "\n",
    "    def describe(self):\n",
    "        print(f\"This is a {self.name} car with {self.num_doors} doors, moving at {self.speed} km/h.\")\n",
    "\n",
    "class Bike(Vehicle):\n",
    "    def __init__(self, name, speed, engine_type):\n",
    "        super().__init__(name, speed)\n",
    "        self.engine_type = engine_type\n",
    "\n",
    "    def describe(self):\n",
    "        print(f\"This is a {self.name} bike with a {self.engine_type} engine, moving at {self.speed} km/h.\")\n",
    "\n",
    "# Example usage\n",
    "c1 = Car(\"Toyota\", 120, 4)\n",
    "b1 = Bike(\"Yamaha\", 80, \"2-stroke\")\n",
    "\n",
    "c1.describe()\n",
    "b1.describe()\n"
   ]
  },
  {
   "cell_type": "code",
   "execution_count": null,
   "id": "bc88ac84-5383-4bc1-802c-6a72f6f9783d",
   "metadata": {},
   "outputs": [],
   "source": []
  }
 ],
 "metadata": {
  "kernelspec": {
   "display_name": "Python 3 (ipykernel)",
   "language": "python",
   "name": "python3"
  },
  "language_info": {
   "codemirror_mode": {
    "name": "ipython",
    "version": 3
   },
   "file_extension": ".py",
   "mimetype": "text/x-python",
   "name": "python",
   "nbconvert_exporter": "python",
   "pygments_lexer": "ipython3",
   "version": "3.12.7"
  }
 },
 "nbformat": 4,
 "nbformat_minor": 5
}
